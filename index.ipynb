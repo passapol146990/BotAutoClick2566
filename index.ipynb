{
 "cells": [
  {
   "cell_type": "code",
   "execution_count": 6,
   "metadata": {},
   "outputs": [],
   "source": [
    "from selenium import webdriver\n",
    "from selenium.webdriver.common.by import By\n",
    "import bs4,re,time,pyperclip\n",
    "from selenium import webdriver\n",
    "\n",
    "extension_path1 = './LogPrograme/3.0.8_0.crx'\n",
    "extension_path2 = './LogPrograme/13.0.10_0.crx'"
   ]
  },
  {
   "cell_type": "code",
   "execution_count": 1,
   "metadata": {},
   "outputs": [],
   "source": [
    "from tkinter import messagebox"
   ]
  },
  {
   "cell_type": "code",
   "execution_count": 4,
   "metadata": {},
   "outputs": [
    {
     "data": {
      "text/plain": [
       "'ok'"
      ]
     },
     "execution_count": 4,
     "metadata": {},
     "output_type": "execute_result"
    }
   ],
   "source": [
    "messagebox.showinfo(\"1\",\"2\")"
   ]
  },
  {
   "cell_type": "code",
   "execution_count": 2,
   "metadata": {},
   "outputs": [
    {
     "data": {
      "text/plain": [
       "['#P110', '#P111', '#P112', '#P113', '#P114']"
      ]
     },
     "execution_count": 2,
     "metadata": {},
     "output_type": "execute_result"
    }
   ],
   "source": [
    "def ReadNameUrlSave():\n",
    "    NameUrlSaveValues = []\n",
    "    try:\n",
    "        NameUrlSave = open('NameUrlSave.txt','r',encoding='utf-8').readlines()\n",
    "        for i in NameUrlSave:\n",
    "            NameUrlSaveValues.append(i.split('\\n')[0])\n",
    "    except:\n",
    "        open('NameUrlSave.txt','w',encoding='utf-8')\n",
    "    return NameUrlSaveValues\n",
    "ReadNameUrlSave()"
   ]
  },
  {
   "cell_type": "markdown",
   "metadata": {},
   "source": [
    "### auto"
   ]
  },
  {
   "cell_type": "code",
   "execution_count": 2,
   "metadata": {},
   "outputs": [],
   "source": [
    "web_options = webdriver.ChromeOptions()\n",
    "web_options.add_extension(extension_path1)\n",
    "web_options.add_extension(extension_path2)\n",
    "web_options.add_experimental_option(\"prefs\", {\n",
    "    \"download.prompt_for_download\": True,\n",
    "    \"download.directory_upgrade\": True,\n",
    "    \"safebrowsing.enabled\": True\n",
    "})\n",
    "# driver = webdriver.Chrome()\n",
    "driver = webdriver.Chrome(options=web_options)\n",
    "driver.get('https://shopee.co.th/')"
   ]
  },
  {
   "cell_type": "code",
   "execution_count": 6,
   "metadata": {},
   "outputs": [
    {
     "data": {
      "text/plain": [
       "31"
      ]
     },
     "execution_count": 6,
     "metadata": {},
     "output_type": "execute_result"
    }
   ],
   "source": [
    "open('1.txt','w',encoding=\"utf-8\").write(driver.current_url)"
   ]
  },
  {
   "cell_type": "code",
   "execution_count": 170,
   "metadata": {},
   "outputs": [],
   "source": [
    "driver.get('https://shopee.co.th/')"
   ]
  },
  {
   "cell_type": "code",
   "execution_count": 5,
   "metadata": {},
   "outputs": [],
   "source": [
    "# set web index 0\n",
    "driver.switch_to.window(driver.window_handles[0])\n",
    "# click 20 item\n",
    "for index in range(20):\n",
    "    driver.find_element(By.XPATH,f'//*[@id=\"ap-sbi-alibabaCN-result\"]/div/div[2]/div/div[1]/div[2]/div/div/div/div/div[{index+1}]/div/div[9]').click()\n",
    "    element = driver.find_element(By.XPATH, f'//*[@id=\"ap-sbi-alibabaCN-result\"]/div/div[2]/div/div[1]/div[2]/div/div/div/div/div[{index+2}]')\n",
    "    driver.execute_script(\"arguments[0].scrollIntoView();\", element)\n",
    "time.sleep(1)\n",
    "driver.find_element(By.XPATH, '/html/body/div[3]/div/div[1]/div[2]/div/div[2]').click()\n",
    "time.sleep(30)\n",
    "# select 0 \n",
    "driver.switch_to.window(driver.window_handles[-1])\n",
    "data = driver.page_source\n",
    "soup = bs4.BeautifulSoup(data)\n",
    "for i in range(20,0,-1):\n",
    "    get_number = soup.select_one(f'body > div > div > div > div.ap-page__bd > div > div.ap-compare-products__bd > div > table > tbody:nth-child(3) > tr:nth-child(3) > td:nth-child({i+1}) > div')\n",
    "    try:\n",
    "        if int(get_number.text) == 0:\n",
    "            print(i,get_number.text)\n",
    "            driver.find_element(By.XPATH,f\"/html/body/div/div/div/div[2]/div/div[2]/div/table/thead/tr/th[{i+1}]/div[3]\").click()\n",
    "    except:pass\n",
    "time.sleep(5)\n",
    "# download excel\n",
    "driver.find_element(By.XPATH,'/html/body/div/div/div/div[2]/div/div[1]/div/div').click()"
   ]
  },
  {
   "cell_type": "markdown",
   "metadata": {},
   "source": [
    "### OOP"
   ]
  },
  {
   "cell_type": "code",
   "execution_count": 8,
   "metadata": {},
   "outputs": [],
   "source": [
    "class webdriverGet():\n",
    "    def __init__(self):\n",
    "        try:\n",
    "            self.web_options = webdriver.ChromeOptions()\n",
    "            self.web_options.add_extension(extension_path1)\n",
    "            self.web_options.add_extension(extension_path2)\n",
    "            self.web_options.add_experimental_option(\"prefs\", {\n",
    "                \"download.prompt_for_download\": True,\n",
    "                \"download.directory_upgrade\": True,\n",
    "                \"safebrowsing.enabled\": True\n",
    "            })\n",
    "        except:\n",
    "            return {\"message\":\"error set Webdriver\",\"status\":404}\n",
    "        \n",
    "    def open(self):\n",
    "        try:\n",
    "            self.driver = webdriver.Chrome(options=self.web_options)\n",
    "        except:\n",
    "            return {\"message\":\"error open webdriver\",\"status\":404}\n",
    "            \n",
    "    def ToLink(self,url):\n",
    "        try:\n",
    "            self.driver.switch_to.window(self.driver.window_handles[0])\n",
    "            self.driver.get(url=url)\n",
    "        except:\n",
    "            return {\"message\":\"error get Url\",\"status\":404}\n",
    "        \n",
    "    def close(self):\n",
    "        try:\n",
    "            self.driver.quit()\n",
    "        except:\n",
    "            return {\"message\":\"error close webdriver\",\"status\":404}\n",
    "\n",
    "    def checkZero(self):\n",
    "        try:\n",
    "            # select 0 \n",
    "            self.driver.switch_to.window(self.driver.window_handles[-1])\n",
    "            self.data = self.driver.page_source\n",
    "            self.soup = bs4.BeautifulSoup(self.data)\n",
    "            for i in range(20,0,-1):\n",
    "                time.sleep(0.5)\n",
    "                self.get_number = self.soup.select_one(f'body > div > div > div > div.ap-page__bd > div > div.ap-compare-products__bd > div > table > tbody:nth-child(3) > tr:nth-child(3) > td:nth-child({i+1}) > div')\n",
    "                try:\n",
    "                    if int(self.get_number.text) == 0:\n",
    "                        self.driver.find_element(By.XPATH,f\"/html/body/div/div/div/div[2]/div/div[2]/div/table/thead/tr/th[{i+1}]/div[3]\").click()\n",
    "                except:\n",
    "                    return {\"message\":\"ไม่พบสินค้า...\",\"status\":200}\n",
    "            return {\"message\":\"เช็ค 0 สินค้าสำเร็จ\",\"status\":200}\n",
    "        except:\n",
    "            return {\"message\":\"ไม่พบหน้าที่ต้องการให้เช็ค 0\",\"status\":404}\n",
    "        \n",
    "    def select_item20(self):\n",
    "        try:\n",
    "            # set web index 0\n",
    "            self.driver.switch_to.window(self.driver.window_handles[0])\n",
    "            # click 20 item\n",
    "            for index in range(20):\n",
    "                self.driver.find_element(By.XPATH,f'//*[@id=\"ap-sbi-alibabaCN-result\"]/div/div[2]/div/div[1]/div[2]/div/div/div/div/div[{index+1}]/div/div[10]').click()\n",
    "                self.element = self.driver.find_element(By.XPATH, f'//*[@id=\"ap-sbi-alibabaCN-result\"]/div/div[2]/div/div[1]/div[2]/div/div/div/div/div[{index+2}]')\n",
    "                self.driver.execute_script(\"arguments[0].scrollIntoView();\", self.element)\n",
    "            time.sleep(1)\n",
    "            # เปรียบเทียบ\n",
    "            self.driver.find_element(By.XPATH, '/html/body/div[3]/div/div[1]/div[2]/div/div[2]').click()\n",
    "        except:\n",
    "            return {\"message\":\"error select 0\",\"status\":404}\n",
    "\n",
    "    def DownloadExcel(self):\n",
    "        try:\n",
    "            # download excel\n",
    "            self.driver.find_element(By.XPATH,'/html/body/div/div/div/div[2]/div/div[1]/div/div').click()\n",
    "        except:\n",
    "            return {\"message\":\"error Download file\",\"status\":404}\n",
    "        \n",
    "    def saveUrl(self,name):\n",
    "        open(f'{name}.txt','w',encoding='utf-8').write(self.driver.current_url)"
   ]
  },
  {
   "cell_type": "code",
   "execution_count": 9,
   "metadata": {},
   "outputs": [],
   "source": [
    "web = webdriverGet()\n",
    "web.open()"
   ]
  },
  {
   "cell_type": "code",
   "execution_count": 202,
   "metadata": {},
   "outputs": [],
   "source": [
    "web.close()"
   ]
  },
  {
   "cell_type": "code",
   "execution_count": 17,
   "metadata": {},
   "outputs": [],
   "source": [
    "web.ToLink(url='https://shopee.co.th/')"
   ]
  },
  {
   "cell_type": "code",
   "execution_count": 36,
   "metadata": {},
   "outputs": [
    {
     "name": "stdout",
     "output_type": "stream",
     "text": [
      "[]\n"
     ]
    }
   ],
   "source": [
    "NameUrlSaveValues = []\n",
    "try:\n",
    "    NameUrlSave = open('NameUrlSave.txt','r',encoding='utf-8').readlines()\n",
    "    for i in NameUrlSave:\n",
    "        NameUrlSaveValues.append(i.split('\\n')[0])\n",
    "except:\n",
    "    open('NameUrlSave.txt','w',encoding='utf-8')\n",
    "print(NameUrlSaveValues)\n"
   ]
  },
  {
   "cell_type": "code",
   "execution_count": 10,
   "metadata": {},
   "outputs": [],
   "source": [
    "web.select_item20()"
   ]
  },
  {
   "cell_type": "code",
   "execution_count": 20,
   "metadata": {},
   "outputs": [
    {
     "data": {
      "text/plain": [
       "{'message': 'เช็ค 0 สินค้าสำเร็จ', 'status': 200}"
      ]
     },
     "execution_count": 20,
     "metadata": {},
     "output_type": "execute_result"
    }
   ],
   "source": [
    "web.checkZero()"
   ]
  },
  {
   "cell_type": "code",
   "execution_count": 211,
   "metadata": {},
   "outputs": [],
   "source": [
    "web.DownloadExcel()"
   ]
  },
  {
   "cell_type": "code",
   "execution_count": 8,
   "metadata": {},
   "outputs": [
    {
     "name": "stdout",
     "output_type": "stream",
     "text": [
      "ไม่พบหน้าที่ต้องการให้เช็ค 0\n"
     ]
    }
   ],
   "source": [
    "try:\n",
    "    driver.switch_to.window(driver.window_handles[-1])\n",
    "    data = driver.page_source\n",
    "    soup = bs4.BeautifulSoup(data)\n",
    "    # จำนวนสินค้าหน้าเช็ค 0 \n",
    "    count = soup.select_one(setElementPageXPathAll('/html/body/div/div/div/div[2]/div/div[2]/div/table/thead/tr/th[1]/div/strong')).get_text()\n",
    "    # เช็ค 0 \n",
    "    try:\n",
    "        for i in range(int(count),0,-1):\n",
    "            get_number = soup.select_one(setElementPageXPathAll(f'/html/body/div/div/div/div[2]/div/div[2]/div/table/tbody[2]/tr[3]/td[{i}]')).get_text()\n",
    "            # print(get_number)\n",
    "            if int(get_number) == 0:\n",
    "                print(i,get_number)\n",
    "                driver.find_element(By.XPATH,f\"/html/body/div/div/div/div[2]/div/div[2]/div/table/thead/tr/th[{i+1}]/div[3]\").click()\n",
    "    except:\n",
    "        print(\"ไม่พบสินค้า...\")\n",
    "    print(\"เช็ค 0 สินค้าสำเร็จ\")\n",
    "except:\n",
    "    print(\"ไม่พบหน้าที่ต้องการให้เช็ค 0\")\n"
   ]
  },
  {
   "cell_type": "code",
   "execution_count": 4,
   "metadata": {},
   "outputs": [],
   "source": [
    "extension_path1 = './3.0.8_0.crx'\n",
    "extension_path2 = './13.0.10_0.crx'\n",
    "\n",
    "edge_options = webdriver.EdgeOptions()\n",
    "edge_options.add_extension(extension_path1)\n",
    "edge_options.add_extension(extension_path2)\n",
    "driver = webdriver.Edge(options=edge_options)\n",
    "# for i in range(2):\n",
    "#     driver.switch_to.window(driver.window_handles[-1])\n",
    "#     driver.close()\n",
    "driver.switch_to.window(driver.window_handles[0])"
   ]
  },
  {
   "cell_type": "markdown",
   "metadata": {},
   "source": [
    "### "
   ]
  }
 ],
 "metadata": {
  "kernelspec": {
   "display_name": "Python 3",
   "language": "python",
   "name": "python3"
  },
  "language_info": {
   "codemirror_mode": {
    "name": "ipython",
    "version": 3
   },
   "file_extension": ".py",
   "mimetype": "text/x-python",
   "name": "python",
   "nbconvert_exporter": "python",
   "pygments_lexer": "ipython3",
   "version": "3.12.0"
  }
 },
 "nbformat": 4,
 "nbformat_minor": 2
}
